{
 "cells": [
  {
   "cell_type": "markdown",
   "metadata": {
    "collapsed": true,
    "pycharm": {
     "name": "#%% md\n"
    }
   },
   "source": [
    "# Analysis for ReproHum2021 Experiment\n",
    "\n",
    "This notebook contains the analysis work performed for the reproduction experiment comparing\n",
    "hedged and non-hedged NLG texts."
   ]
  },
  {
   "cell_type": "code",
   "execution_count": 53,
   "outputs": [],
   "source": [
    "import pandas as pd\n",
    "from scipy import stats\n",
    "import pingouin as pg"
   ],
   "metadata": {
    "collapsed": false,
    "pycharm": {
     "name": "#%%\n"
    }
   }
  },
  {
   "cell_type": "code",
   "execution_count": 20,
   "outputs": [
    {
     "data": {
      "text/plain": "   ID       start_time  completion_time gender              age  \\\n0   1  8/2/21 14:50:41  8/2/21 14:54:07   Male  25-34 years old   \n1   2  8/2/21 14:49:28  8/2/21 14:58:59   Male  25-34 years old   \n2   3  8/2/21 18:13:14  8/2/21 18:26:54   Male  25-34 years old   \n3   4  8/4/21 12:11:04  8/4/21 12:24:19   Male  25-34 years old   \n4   5   8/5/21 7:45:50   8/5/21 8:03:16   Male  35-44 years old   \n\n  english_language_proficiency sc1_opinion  sc1_rating  \\\n0       Non-native, but fluent       Maybe          -2   \n1       Non-native, but fluent         Yes          -2   \n2       Non-native, but fluent         Yes           0   \n3       Non-native, but fluent         Yes          -2   \n4                       Native          No          -3   \n\n                                             sc1_why sc2_opinion  sc2_rating  \\\n0                                 A bit more formal.       Maybe          -2   \n1  A is more direct. Don't think the adverbs in B...          No          -1   \n2  The text doesn't tell you anything that the ta...       Maybe          -1   \n3  The outcome is positive, so it can be conveyed...          No           2   \n4  The second one has a kind of conflict between ...          No          -3   \n\n                                             sc2_why  \n0                                        More formal  \n1  Again, do not think that the adverbs add value...  \n2  \"Average results in X. This result is extremel...  \n3  The outcome is negative, so there can be certa...  \n4  B sounds disingenuous. The degree qualificatio...  ",
      "text/html": "<div>\n<style scoped>\n    .dataframe tbody tr th:only-of-type {\n        vertical-align: middle;\n    }\n\n    .dataframe tbody tr th {\n        vertical-align: top;\n    }\n\n    .dataframe thead th {\n        text-align: right;\n    }\n</style>\n<table border=\"1\" class=\"dataframe\">\n  <thead>\n    <tr style=\"text-align: right;\">\n      <th></th>\n      <th>ID</th>\n      <th>start_time</th>\n      <th>completion_time</th>\n      <th>gender</th>\n      <th>age</th>\n      <th>english_language_proficiency</th>\n      <th>sc1_opinion</th>\n      <th>sc1_rating</th>\n      <th>sc1_why</th>\n      <th>sc2_opinion</th>\n      <th>sc2_rating</th>\n      <th>sc2_why</th>\n    </tr>\n  </thead>\n  <tbody>\n    <tr>\n      <th>0</th>\n      <td>1</td>\n      <td>8/2/21 14:50:41</td>\n      <td>8/2/21 14:54:07</td>\n      <td>Male</td>\n      <td>25-34 years old</td>\n      <td>Non-native, but fluent</td>\n      <td>Maybe</td>\n      <td>-2</td>\n      <td>A bit more formal.</td>\n      <td>Maybe</td>\n      <td>-2</td>\n      <td>More formal</td>\n    </tr>\n    <tr>\n      <th>1</th>\n      <td>2</td>\n      <td>8/2/21 14:49:28</td>\n      <td>8/2/21 14:58:59</td>\n      <td>Male</td>\n      <td>25-34 years old</td>\n      <td>Non-native, but fluent</td>\n      <td>Yes</td>\n      <td>-2</td>\n      <td>A is more direct. Don't think the adverbs in B...</td>\n      <td>No</td>\n      <td>-1</td>\n      <td>Again, do not think that the adverbs add value...</td>\n    </tr>\n    <tr>\n      <th>2</th>\n      <td>3</td>\n      <td>8/2/21 18:13:14</td>\n      <td>8/2/21 18:26:54</td>\n      <td>Male</td>\n      <td>25-34 years old</td>\n      <td>Non-native, but fluent</td>\n      <td>Yes</td>\n      <td>0</td>\n      <td>The text doesn't tell you anything that the ta...</td>\n      <td>Maybe</td>\n      <td>-1</td>\n      <td>\"Average results in X. This result is extremel...</td>\n    </tr>\n    <tr>\n      <th>3</th>\n      <td>4</td>\n      <td>8/4/21 12:11:04</td>\n      <td>8/4/21 12:24:19</td>\n      <td>Male</td>\n      <td>25-34 years old</td>\n      <td>Non-native, but fluent</td>\n      <td>Yes</td>\n      <td>-2</td>\n      <td>The outcome is positive, so it can be conveyed...</td>\n      <td>No</td>\n      <td>2</td>\n      <td>The outcome is negative, so there can be certa...</td>\n    </tr>\n    <tr>\n      <th>4</th>\n      <td>5</td>\n      <td>8/5/21 7:45:50</td>\n      <td>8/5/21 8:03:16</td>\n      <td>Male</td>\n      <td>35-44 years old</td>\n      <td>Native</td>\n      <td>No</td>\n      <td>-3</td>\n      <td>The second one has a kind of conflict between ...</td>\n      <td>No</td>\n      <td>-3</td>\n      <td>B sounds disingenuous. The degree qualificatio...</td>\n    </tr>\n  </tbody>\n</table>\n</div>"
     },
     "execution_count": 20,
     "metadata": {},
     "output_type": "execute_result"
    }
   ],
   "source": [
    "dataset_df = pd.read_csv(\"data/hedging_dataset.csv\", sep=\";\")\n",
    "dataset_df.head()"
   ],
   "metadata": {
    "collapsed": false,
    "pycharm": {
     "name": "#%%\n"
    }
   }
  },
  {
   "cell_type": "code",
   "execution_count": 21,
   "outputs": [
    {
     "data": {
      "text/plain": "count    11.000000\nmean     -2.090909\nstd       1.044466\nmin      -3.000000\n25%      -3.000000\n50%      -2.000000\n75%      -1.500000\nmax       0.000000\nName: sc1_rating, dtype: float64"
     },
     "execution_count": 21,
     "metadata": {},
     "output_type": "execute_result"
    }
   ],
   "source": [
    "# Describe Likert ratings for scenario 1:\n",
    "dataset_df['sc1_rating'].describe()"
   ],
   "metadata": {
    "collapsed": false,
    "pycharm": {
     "name": "#%%\n"
    }
   }
  },
  {
   "cell_type": "code",
   "execution_count": 22,
   "outputs": [
    {
     "data": {
      "text/plain": "count    11.000000\nmean     -1.363636\nstd       1.858641\nmin      -3.000000\n25%      -3.000000\n50%      -2.000000\n75%      -1.000000\nmax       2.000000\nName: sc2_rating, dtype: float64"
     },
     "execution_count": 22,
     "metadata": {},
     "output_type": "execute_result"
    }
   ],
   "source": [
    "# Describe Likert ratings for scenario 2:\n",
    "dataset_df['sc2_rating'].describe()"
   ],
   "metadata": {
    "collapsed": false,
    "pycharm": {
     "name": "#%%\n"
    }
   }
  },
  {
   "cell_type": "markdown",
   "source": [
    "## Participant Analysis"
   ],
   "metadata": {
    "collapsed": false,
    "pycharm": {
     "name": "#%% md\n"
    }
   }
  },
  {
   "cell_type": "code",
   "execution_count": 23,
   "outputs": [
    {
     "data": {
      "text/plain": "<AxesSubplot:ylabel='gender'>"
     },
     "execution_count": 23,
     "metadata": {},
     "output_type": "execute_result"
    },
    {
     "data": {
      "text/plain": "<Figure size 432x288 with 1 Axes>",
      "image/png": "[encoded data removed]"
     },
     "metadata": {},
     "output_type": "display_data"
    }
   ],
   "source": [
    "# Gender:\n",
    "dataset_df['gender'].value_counts().plot(kind='pie')"
   ],
   "metadata": {
    "collapsed": false,
    "pycharm": {
     "name": "#%%\n"
    }
   }
  },
  {
   "cell_type": "code",
   "execution_count": 24,
   "outputs": [
    {
     "data": {
      "text/plain": "<AxesSubplot:>"
     },
     "execution_count": 24,
     "metadata": {},
     "output_type": "execute_result"
    },
    {
     "data": {
      "text/plain": "<Figure size 432x288 with 1 Axes>",
      "image/png": "[encoded data removed]"
     },
     "metadata": {
      "needs_background": "light"
     },
     "output_type": "display_data"
    }
   ],
   "source": [
    "# Age\n",
    "dataset_df['age'].value_counts().plot(kind='bar')"
   ],
   "metadata": {
    "collapsed": false,
    "pycharm": {
     "name": "#%%\n"
    }
   }
  },
  {
   "cell_type": "code",
   "execution_count": 25,
   "outputs": [
    {
     "data": {
      "text/plain": "<AxesSubplot:>"
     },
     "execution_count": 25,
     "metadata": {},
     "output_type": "execute_result"
    },
    {
     "data": {
      "text/plain": "<Figure size 432x288 with 1 Axes>",
      "image/png": "[encoded data removed]"
     },
     "metadata": {
      "needs_background": "light"
     },
     "output_type": "display_data"
    }
   ],
   "source": [
    "# Language proficiency:\n",
    "dataset_df['english_language_proficiency'].value_counts().plot(kind='bar')\n"
   ],
   "metadata": {
    "collapsed": false,
    "pycharm": {
     "name": "#%%\n"
    }
   }
  },
  {
   "cell_type": "markdown",
   "source": [
    "## Statistical Analysis"
   ],
   "metadata": {
    "collapsed": false,
    "pycharm": {
     "name": "#%% md\n"
    }
   }
  },
  {
   "cell_type": "code",
   "execution_count": 28,
   "outputs": [
    {
     "name": "stdout",
     "output_type": "stream",
     "text": [
      "Scenario 1 Overall Mean Average Score: -2.090909090909091 (1.044465935734187 std.)\n"
     ]
    }
   ],
   "source": [
    "# Scenario 1:\n",
    "sc1_mean = dataset_df['sc1_rating'].mean()\n",
    "sc1_std = dataset_df['sc1_rating'].std()\n",
    "\n",
    "print(f\"Scenario 1 Overall Mean Average Score: {sc1_mean} ({sc1_std} std.)\")"
   ],
   "metadata": {
    "collapsed": false,
    "pycharm": {
     "name": "#%%\n"
    }
   }
  },
  {
   "cell_type": "code",
   "execution_count": 29,
   "outputs": [
    {
     "name": "stdout",
     "output_type": "stream",
     "text": [
      "Scenario 2 Overall Mean Average Score: -1.3636363636363635 (1.85864075456917 std.)\n"
     ]
    }
   ],
   "source": [
    "# Scenario 2:\n",
    "sc2_mean = dataset_df['sc2_rating'].mean()\n",
    "sc2_std = dataset_df['sc2_rating'].std()\n",
    "\n",
    "print(f\"Scenario 2 Overall Mean Average Score: {sc2_mean} ({sc2_std} std.)\")"
   ],
   "metadata": {
    "collapsed": false,
    "pycharm": {
     "name": "#%%\n"
    }
   }
  },
  {
   "cell_type": "markdown",
   "source": [
    "## By Language Proficiency"
   ],
   "metadata": {
    "collapsed": false,
    "pycharm": {
     "name": "#%% md\n"
    }
   }
  },
  {
   "cell_type": "code",
   "execution_count": 37,
   "outputs": [
    {
     "data": {
      "text/plain": "                             sc1_rating                                      \\\n                                  count mean       std  min   25%  50%  75%   \nenglish_language_proficiency                                                  \nNative                              5.0 -2.2  1.095445 -3.0 -3.00 -3.0 -1.0   \nNon-native, but fluent              6.0 -2.0  1.095445 -3.0 -2.75 -2.0 -2.0   \n\n                                  sc2_rating                                 \\\n                              max      count      mean       std  min   25%   \nenglish_language_proficiency                                                  \nNative                       -1.0        5.0 -1.400000  2.073644 -3.0 -3.00   \nNon-native, but fluent        0.0        6.0 -1.333333  1.861899 -3.0 -2.75   \n\n                                             \n                              50%  75%  max  \nenglish_language_proficiency                 \nNative                       -2.0 -1.0  2.0  \nNon-native, but fluent       -1.5 -1.0  2.0  ",
      "text/html": "<div>\n<style scoped>\n    .dataframe tbody tr th:only-of-type {\n        vertical-align: middle;\n    }\n\n    .dataframe tbody tr th {\n        vertical-align: top;\n    }\n\n    .dataframe thead tr th {\n        text-align: left;\n    }\n\n    .dataframe thead tr:last-of-type th {\n        text-align: right;\n    }\n</style>\n<table border=\"1\" class=\"dataframe\">\n  <thead>\n    <tr>\n      <th></th>\n      <th colspan=\"8\" halign=\"left\">sc1_rating</th>\n      <th colspan=\"8\" halign=\"left\">sc2_rating</th>\n    </tr>\n    <tr>\n      <th></th>\n      <th>count</th>\n      <th>mean</th>\n      <th>std</th>\n      <th>min</th>\n      <th>25%</th>\n      <th>50%</th>\n      <th>75%</th>\n      <th>max</th>\n      <th>count</th>\n      <th>mean</th>\n      <th>std</th>\n      <th>min</th>\n      <th>25%</th>\n      <th>50%</th>\n      <th>75%</th>\n      <th>max</th>\n    </tr>\n    <tr>\n      <th>english_language_proficiency</th>\n      <th></th>\n      <th></th>\n      <th></th>\n      <th></th>\n      <th></th>\n      <th></th>\n      <th></th>\n      <th></th>\n      <th></th>\n      <th></th>\n      <th></th>\n      <th></th>\n      <th></th>\n      <th></th>\n      <th></th>\n      <th></th>\n    </tr>\n  </thead>\n  <tbody>\n    <tr>\n      <th>Native</th>\n      <td>5.0</td>\n      <td>-2.2</td>\n      <td>1.095445</td>\n      <td>-3.0</td>\n      <td>-3.00</td>\n      <td>-3.0</td>\n      <td>-1.0</td>\n      <td>-1.0</td>\n      <td>5.0</td>\n      <td>-1.400000</td>\n      <td>2.073644</td>\n      <td>-3.0</td>\n      <td>-3.00</td>\n      <td>-2.0</td>\n      <td>-1.0</td>\n      <td>2.0</td>\n    </tr>\n    <tr>\n      <th>Non-native, but fluent</th>\n      <td>6.0</td>\n      <td>-2.0</td>\n      <td>1.095445</td>\n      <td>-3.0</td>\n      <td>-2.75</td>\n      <td>-2.0</td>\n      <td>-2.0</td>\n      <td>0.0</td>\n      <td>6.0</td>\n      <td>-1.333333</td>\n      <td>1.861899</td>\n      <td>-3.0</td>\n      <td>-2.75</td>\n      <td>-1.5</td>\n      <td>-1.0</td>\n      <td>2.0</td>\n    </tr>\n  </tbody>\n</table>\n</div>"
     },
     "execution_count": 37,
     "metadata": {},
     "output_type": "execute_result"
    }
   ],
   "source": [
    "# Descriptive statistics\n",
    "dataset_df.drop(['ID'], axis=1).groupby('english_language_proficiency').describe()"
   ],
   "metadata": {
    "collapsed": false,
    "pycharm": {
     "name": "#%%\n"
    }
   }
  },
  {
   "cell_type": "code",
   "execution_count": 30,
   "outputs": [],
   "source": [
    "# Native English:\n",
    "native_english_df = dataset_df.loc[dataset_df['english_language_proficiency'] == \"Native\"]\n",
    "# Non-Native, Fluent English:\n",
    "fluent_english_df = dataset_df.loc[dataset_df['english_language_proficiency'] == 'Non-native, but fluent']"
   ],
   "metadata": {
    "collapsed": false,
    "pycharm": {
     "name": "#%%\n"
    }
   }
  },
  {
   "cell_type": "code",
   "execution_count": 31,
   "outputs": [
    {
     "name": "stdout",
     "output_type": "stream",
     "text": [
      "Scenario 1 Native Mean Average Score: -2.2 (1.0954451150103321 std.)\n"
     ]
    }
   ],
   "source": [
    "# Scenario 1 (Native):\n",
    "sc1_mean = native_english_df['sc1_rating'].mean()\n",
    "sc1_std = native_english_df['sc1_rating'].std()\n",
    "\n",
    "print(f\"Scenario 1 Native Mean Average Score: {sc1_mean} ({sc1_std} std.)\")"
   ],
   "metadata": {
    "collapsed": false,
    "pycharm": {
     "name": "#%%\n"
    }
   }
  },
  {
   "cell_type": "code",
   "execution_count": 33,
   "outputs": [
    {
     "name": "stdout",
     "output_type": "stream",
     "text": [
      "Scenario 2 Native Mean Average Score: -1.4 (2.073644135332772 std.)\n"
     ]
    }
   ],
   "source": [
    "# Scenario 2 (Native):\n",
    "sc2_mean = native_english_df['sc2_rating'].mean()\n",
    "sc2_std = native_english_df['sc2_rating'].std()\n",
    "\n",
    "print(f\"Scenario 2 Native Mean Average Score: {sc2_mean} ({sc2_std} std.)\")"
   ],
   "metadata": {
    "collapsed": false,
    "pycharm": {
     "name": "#%%\n"
    }
   }
  },
  {
   "cell_type": "code",
   "execution_count": 34,
   "outputs": [
    {
     "name": "stdout",
     "output_type": "stream",
     "text": [
      "Scenario 1 Fluent Mean Average Score: -2.0 (1.0954451150103321 std.)\n"
     ]
    }
   ],
   "source": [
    "# Scenario 1 (Fluent):\n",
    "sc1_mean = fluent_english_df['sc1_rating'].mean()\n",
    "sc1_std = fluent_english_df['sc1_rating'].std()\n",
    "\n",
    "print(f\"Scenario 1 Fluent Mean Average Score: {sc1_mean} ({sc1_std} std.)\")"
   ],
   "metadata": {
    "collapsed": false,
    "pycharm": {
     "name": "#%%\n"
    }
   }
  },
  {
   "cell_type": "code",
   "execution_count": 35,
   "outputs": [
    {
     "name": "stdout",
     "output_type": "stream",
     "text": [
      "Scenario 2 Fluent Mean Average Score: -1.3333333333333333 (1.8618986725025255 std.)\n"
     ]
    }
   ],
   "source": [
    "# Scenario 2:\n",
    "sc2_mean = fluent_english_df['sc2_rating'].mean()\n",
    "sc2_std = fluent_english_df['sc2_rating'].std()\n",
    "\n",
    "print(f\"Scenario 2 Fluent Mean Average Score: {sc2_mean} ({sc2_std} std.)\")"
   ],
   "metadata": {
    "collapsed": false,
    "pycharm": {
     "name": "#%%\n"
    }
   }
  },
  {
   "cell_type": "markdown",
   "source": [
    "### Data Normality and Homogeneity Checks"
   ],
   "metadata": {
    "collapsed": false,
    "pycharm": {
     "name": "#%% md\n"
    }
   }
  },
  {
   "cell_type": "markdown",
   "source": [
    "Native Speakers:"
   ],
   "metadata": {
    "collapsed": false,
    "pycharm": {
     "name": "#%% md\n"
    }
   }
  },
  {
   "cell_type": "code",
   "execution_count": 47,
   "outputs": [
    {
     "data": {
      "text/plain": "ShapiroResult(statistic=0.6840287446975708, pvalue=0.006469968240708113)"
     },
     "execution_count": 47,
     "metadata": {},
     "output_type": "execute_result"
    }
   ],
   "source": [
    "# Check for Data Normality using the Shapiro-Wilks test:\n",
    "stats.shapiro(native_english_df['sc1_rating'])"
   ],
   "metadata": {
    "collapsed": false,
    "pycharm": {
     "name": "#%%\n"
    }
   }
  },
  {
   "cell_type": "code",
   "execution_count": 46,
   "outputs": [
    {
     "data": {
      "text/plain": "ShapiroResult(statistic=0.8421509861946106, pvalue=0.17095594108104706)"
     },
     "execution_count": 46,
     "metadata": {},
     "output_type": "execute_result"
    }
   ],
   "source": [
    "stats.shapiro(native_english_df['sc2_rating'])\n"
   ],
   "metadata": {
    "collapsed": false,
    "pycharm": {
     "name": "#%%\n"
    }
   }
  },
  {
   "cell_type": "markdown",
   "source": [
    "Fluent Speakers:"
   ],
   "metadata": {
    "collapsed": false,
    "pycharm": {
     "name": "#%% md\n"
    }
   }
  },
  {
   "cell_type": "code",
   "execution_count": 48,
   "outputs": [
    {
     "data": {
      "text/plain": "ShapiroResult(statistic=0.8137412071228027, pvalue=0.07784329354763031)"
     },
     "execution_count": 48,
     "metadata": {},
     "output_type": "execute_result"
    }
   ],
   "source": [
    "stats.shapiro(fluent_english_df['sc1_rating'])"
   ],
   "metadata": {
    "collapsed": false,
    "pycharm": {
     "name": "#%%\n"
    }
   }
  },
  {
   "cell_type": "code",
   "execution_count": 49,
   "outputs": [
    {
     "data": {
      "text/plain": "ShapiroResult(statistic=0.8616126775741577, pvalue=0.19476796686649323)"
     },
     "execution_count": 49,
     "metadata": {},
     "output_type": "execute_result"
    }
   ],
   "source": [
    "stats.shapiro(fluent_english_df['sc2_rating'])\n",
    "\n"
   ],
   "metadata": {
    "collapsed": false,
    "pycharm": {
     "name": "#%%\n"
    }
   }
  },
  {
   "cell_type": "markdown",
   "source": [
    "Homogeneity Check (Scenario 1):"
   ],
   "metadata": {
    "collapsed": false,
    "pycharm": {
     "name": "#%% md\n"
    }
   }
  },
  {
   "cell_type": "code",
   "execution_count": 50,
   "outputs": [
    {
     "data": {
      "text/plain": "LeveneResult(statistic=0.05365126676602093, pvalue=0.8220079481989209)"
     },
     "execution_count": 50,
     "metadata": {},
     "output_type": "execute_result"
    }
   ],
   "source": [
    "stats.levene(native_english_df['sc1_rating'], fluent_english_df['sc1_rating'])\n"
   ],
   "metadata": {
    "collapsed": false,
    "pycharm": {
     "name": "#%%\n"
    }
   }
  },
  {
   "cell_type": "markdown",
   "source": [
    "Homogeneity Check (Scenario 2):"
   ],
   "metadata": {
    "collapsed": false,
    "pycharm": {
     "name": "#%% md\n"
    }
   }
  },
  {
   "cell_type": "code",
   "execution_count": 51,
   "outputs": [
    {
     "data": {
      "text/plain": "LeveneResult(statistic=0.0068040068040068, pvalue=0.9360653412936365)"
     },
     "execution_count": 51,
     "metadata": {},
     "output_type": "execute_result"
    }
   ],
   "source": [
    "stats.levene(native_english_df['sc2_rating'], fluent_english_df['sc2_rating'])\n"
   ],
   "metadata": {
    "collapsed": false,
    "pycharm": {
     "name": "#%%\n"
    }
   }
  },
  {
   "cell_type": "markdown",
   "source": [
    "Two-Sample T-test (Scenario 1):"
   ],
   "metadata": {
    "collapsed": false,
    "pycharm": {
     "name": "#%% md\n"
    }
   }
  },
  {
   "cell_type": "code",
   "execution_count": 58,
   "outputs": [
    {
     "data": {
      "text/plain": "               T  dof       tail     p-val        CI95%   cohen-d   BF10  \\\nT-test -0.301511    9  two-sided  0.769875  [-1.7, 1.3]  0.182574  0.495   \n\n           power  \nT-test  0.058442  ",
      "text/html": "<div>\n<style scoped>\n    .dataframe tbody tr th:only-of-type {\n        vertical-align: middle;\n    }\n\n    .dataframe tbody tr th {\n        vertical-align: top;\n    }\n\n    .dataframe thead th {\n        text-align: right;\n    }\n</style>\n<table border=\"1\" class=\"dataframe\">\n  <thead>\n    <tr style=\"text-align: right;\">\n      <th></th>\n      <th>T</th>\n      <th>dof</th>\n      <th>tail</th>\n      <th>p-val</th>\n      <th>CI95%</th>\n      <th>cohen-d</th>\n      <th>BF10</th>\n      <th>power</th>\n    </tr>\n  </thead>\n  <tbody>\n    <tr>\n      <th>T-test</th>\n      <td>-0.301511</td>\n      <td>9</td>\n      <td>two-sided</td>\n      <td>0.769875</td>\n      <td>[-1.7, 1.3]</td>\n      <td>0.182574</td>\n      <td>0.495</td>\n      <td>0.058442</td>\n    </tr>\n  </tbody>\n</table>\n</div>"
     },
     "execution_count": 58,
     "metadata": {},
     "output_type": "execute_result"
    }
   ],
   "source": [
    "pg.ttest(native_english_df['sc1_rating'],\n",
    "                fluent_english_df['sc1_rating'], correction=False)"
   ],
   "metadata": {
    "collapsed": false,
    "pycharm": {
     "name": "#%%\n"
    }
   }
  },
  {
   "cell_type": "markdown",
   "source": [
    "Two-Sample T-test (Scenario 2):"
   ],
   "metadata": {
    "collapsed": false,
    "pycharm": {
     "name": "#%% md\n"
    }
   }
  },
  {
   "cell_type": "code",
   "execution_count": 59,
   "outputs": [
    {
     "data": {
      "text/plain": "               T  dof       tail     p-val          CI95%   cohen-d   BF10  \\\nT-test -0.056205    9  two-sided  0.956406  [-2.75, 2.62]  0.034034  0.481   \n\n           power  \nT-test  0.050292  ",
      "text/html": "<div>\n<style scoped>\n    .dataframe tbody tr th:only-of-type {\n        vertical-align: middle;\n    }\n\n    .dataframe tbody tr th {\n        vertical-align: top;\n    }\n\n    .dataframe thead th {\n        text-align: right;\n    }\n</style>\n<table border=\"1\" class=\"dataframe\">\n  <thead>\n    <tr style=\"text-align: right;\">\n      <th></th>\n      <th>T</th>\n      <th>dof</th>\n      <th>tail</th>\n      <th>p-val</th>\n      <th>CI95%</th>\n      <th>cohen-d</th>\n      <th>BF10</th>\n      <th>power</th>\n    </tr>\n  </thead>\n  <tbody>\n    <tr>\n      <th>T-test</th>\n      <td>-0.056205</td>\n      <td>9</td>\n      <td>two-sided</td>\n      <td>0.956406</td>\n      <td>[-2.75, 2.62]</td>\n      <td>0.034034</td>\n      <td>0.481</td>\n      <td>0.050292</td>\n    </tr>\n  </tbody>\n</table>\n</div>"
     },
     "execution_count": 59,
     "metadata": {},
     "output_type": "execute_result"
    }
   ],
   "source": [
    "pg.ttest(native_english_df['sc2_rating'],\n",
    "                fluent_english_df['sc2_rating'], correction=False)"
   ],
   "metadata": {
    "collapsed": false,
    "pycharm": {
     "name": "#%%\n"
    }
   }
  },
  {
   "cell_type": "code",
   "execution_count": null,
   "outputs": [],
   "source": [],
   "metadata": {
    "collapsed": false,
    "pycharm": {
     "name": "#%%\n"
    }
   }
  }
 ],
 "metadata": {
  "kernelspec": {
   "display_name": "Python 3",
   "language": "python",
   "name": "python3"
  },
  "language_info": {
   "codemirror_mode": {
    "name": "ipython",
    "version": 2
   },
   "file_extension": ".py",
   "mimetype": "text/x-python",
   "name": "python",
   "nbconvert_exporter": "python",
   "pygments_lexer": "ipython2",
   "version": "2.7.6"
  }
 },
 "nbformat": 4,
 "nbformat_minor": 0
}